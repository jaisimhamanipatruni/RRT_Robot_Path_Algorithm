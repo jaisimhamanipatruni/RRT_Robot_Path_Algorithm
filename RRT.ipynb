{
  "nbformat": 4,
  "nbformat_minor": 0,
  "metadata": {
    "colab": {
      "name": "RRT.ipynb",
      "version": "0.3.2",
      "provenance": [],
      "collapsed_sections": []
    },
    "kernelspec": {
      "name": "python3",
      "display_name": "Python 3"
    },
    "accelerator": "TPU"
  },
  "cells": [
    {
      "cell_type": "code",
      "metadata": {
        "id": "qqO58D11uojY",
        "colab_type": "code",
        "colab": {
          "base_uri": "https://localhost:8080/",
          "height": 612
        },
        "outputId": "1a9c87e1-9ace-4eab-db24-02b135a2712b"
      },
      "source": [
        "from matplotlib.pyplot import figure, clf, axis, plot, draw\n",
        "from pylab import ion\n",
        "from random import uniform\n",
        "from time import sleep\n",
        "from math import hypot, atan2, sin, cos, floor\n",
        "import matplotlib.patches as patches\n",
        "\n",
        "\n",
        "class Point:\n",
        "    def __init__(self,x,y):\n",
        "        self.x = x\n",
        "        self.y = y\n",
        "\n",
        "\n",
        "\n",
        "class RRT:\n",
        "    def __init__(self, root, color):\n",
        "        self.root = root\n",
        "        self.step_size = 1\n",
        "        self.config_list = []\n",
        "        self.axis_size = 10\n",
        "        self.add_tree(self.root)\n",
        "        self.color = color\n",
        "\n",
        "    def updatePlot(self):\n",
        "\n",
        "        # Set axis\n",
        "        axis([-self.axis_size,self.axis_size,-self.axis_size,self.axis_size])\n",
        "\n",
        "        # Update the plot\n",
        "        draw()\n",
        "\n",
        "    def add_tree(self, tree):\n",
        "        self.plot_config(tree)\n",
        "        self.config_list.append(tree)\n",
        "\n",
        "    def get_free_config(self):\n",
        "        x = uniform(-self.axis_size, self.axis_size)\n",
        "        y = uniform(-self.axis_size, self.axis_size)\n",
        "\n",
        "        while -5 < x < 3 and -8 < y < 7:\n",
        "            x = uniform(-self.axis_size, self.axis_size)\n",
        "            y = uniform(-self.axis_size, self.axis_size)\n",
        "\n",
        "        config = Point(x,y)\n",
        "        return config\n",
        "\n",
        "    def plot_config(self, config):\n",
        "        plot(config.x, config.y,  'o')\n",
        "\n",
        "    def dot_line(self, from_config, shortest_config):\n",
        "\n",
        "        dots_num = floor(hypot(from_config.x-shortest_config.x, from_config.y-shortest_config.y)/self.step_size)\n",
        "        angle = atan2(from_config.y-shortest_config.y, from_config.x-shortest_config.x )\n",
        "\n",
        "        #from_line = shortest_config\n",
        "        for dot in range( int( dots_num ) + 1 ):\n",
        "            x = from_config.x - dot*self.step_size*cos(angle)\n",
        "            y = from_config.y - dot*self.step_size*sin(angle)\n",
        "\n",
        "            if -5 < x < 1 and -8 < y < 7:\n",
        "                plot([x,from_config.x],[y,from_config.y],self.color +'-')\n",
        "                return\n",
        "            plot(x,y,self.color + 'o')\n",
        "            config = Point(x,y)\n",
        "            self.config_list.append(config)\n",
        "            #from_line = Point(x,y)\n",
        "        #self.plot_config(from_config)\n",
        "        plot([x,from_config.x],[y,from_config.y],self.color + '-')\n",
        "        self.config_list.append(from_config)\n",
        "\n",
        "\n",
        "    def get_shortest_config(self, from_config):\n",
        "        self.config_list.sort(key=lambda tmp: hypot(from_config.x - tmp.x,from_config.y - tmp.y), reverse=False)\n",
        "        shortest_config = self.config_list[0]\n",
        "\n",
        "        self.dot_line(shortest_config, from_config)\n",
        "\n",
        "        #plot([shortest_config.x,from_config.x],[shortest_config.y,from_config.y],'-')\n",
        "\n",
        "    def sample(self):\n",
        "        free_config = self.get_free_config()\n",
        "\n",
        "        self.get_shortest_config(free_config)\n",
        "\n",
        "        self.updatePlot()\n",
        "\n",
        "\n",
        "# init plot\n",
        "fig = figure(num=None, figsize=(6, 6), dpi=80, facecolor='w', edgecolor='k')\n",
        "\n",
        "fig.gca().add_patch(patches.Rectangle(\n",
        "        (-5, -8),   # (x,y)\n",
        "        6,          # width\n",
        "        15,          # height\n",
        "    )\n",
        ")\n",
        "ion()\n",
        "\n",
        "rrt_start = RRT(Point(-7,1),'r')\n",
        "rrt_goal = RRT(Point(7,1),'b')\n",
        "\n",
        "for i in range(1000):\n",
        "    rrt_start.sample()\n",
        "    sleep(0.1)\n",
        "    rrt_goal.sample()\n",
        "    sleep(0.1)\n",
        "sleep(100)"
      ],
      "execution_count": 11,
      "outputs": [
        {
          "output_type": "error",
          "ename": "KeyboardInterrupt",
          "evalue": "ignored",
          "traceback": [
            "\u001b[0;31m---------------------------------------------------------------------------\u001b[0m",
            "\u001b[0;31mKeyboardInterrupt\u001b[0m                         Traceback (most recent call last)",
            "\u001b[0;32m<ipython-input-11-dd626aebfaf4>\u001b[0m in \u001b[0;36m<module>\u001b[0;34m()\u001b[0m\n\u001b[1;32m    105\u001b[0m     \u001b[0msleep\u001b[0m\u001b[0;34m(\u001b[0m\u001b[0;36m0.1\u001b[0m\u001b[0;34m)\u001b[0m\u001b[0;34m\u001b[0m\u001b[0;34m\u001b[0m\u001b[0m\n\u001b[1;32m    106\u001b[0m     \u001b[0mrrt_goal\u001b[0m\u001b[0;34m.\u001b[0m\u001b[0msample\u001b[0m\u001b[0;34m(\u001b[0m\u001b[0;34m)\u001b[0m\u001b[0;34m\u001b[0m\u001b[0;34m\u001b[0m\u001b[0m\n\u001b[0;32m--> 107\u001b[0;31m     \u001b[0msleep\u001b[0m\u001b[0;34m(\u001b[0m\u001b[0;36m0.1\u001b[0m\u001b[0;34m)\u001b[0m\u001b[0;34m\u001b[0m\u001b[0;34m\u001b[0m\u001b[0m\n\u001b[0m\u001b[1;32m    108\u001b[0m \u001b[0msleep\u001b[0m\u001b[0;34m(\u001b[0m\u001b[0;36m100\u001b[0m\u001b[0;34m)\u001b[0m\u001b[0;34m\u001b[0m\u001b[0;34m\u001b[0m\u001b[0m\n",
            "\u001b[0;31mKeyboardInterrupt\u001b[0m: "
          ]
        },
        {
          "output_type": "display_data",
          "data": {
            "image/png": "[encoded data removed]",
            "text/plain": [
              "<Figure size 480x480 with 1 Axes>"
            ]
          },
          "metadata": {
            "tags": []
          }
        }
      ]
    }
  ]
}